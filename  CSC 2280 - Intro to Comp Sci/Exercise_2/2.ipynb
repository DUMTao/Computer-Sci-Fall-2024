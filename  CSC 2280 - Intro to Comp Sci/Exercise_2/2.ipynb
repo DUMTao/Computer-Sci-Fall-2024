{
 "cells": [
  {
   "cell_type": "code",
   "execution_count": 13,
   "metadata": {},
   "outputs": [
    {
     "name": "stdout",
     "output_type": "stream",
     "text": [
      "Index(['bond_actor', 'bond_kills', 'car_manufacturer', 'film_length', 'imdb',\n",
      "       'income_usa', 'income_world', 'martinis_consumed', 'movie_budget',\n",
      "       'movie_title', 'release_date', 'rotten_tomatoes', 'release_year'],\n",
      "      dtype='object')\n"
     ]
    }
   ],
   "source": [
    "import pandas as pd\n",
    "import matplotlib.pyplot as plt\n",
    "import numpy as np\n",
    "\n",
    "df = pd.read_csv('james_bond_data_cleansed.csv')\n",
    "print(df.columns)"
   ]
  },
  {
   "cell_type": "code",
   "execution_count": 14,
   "metadata": {},
   "outputs": [],
   "source": [
    "movie_length = df['film_length']\n",
    "movie_rating = df['imdb']"
   ]
  },
  {
   "cell_type": "code",
   "execution_count": 15,
   "metadata": {},
   "outputs": [],
   "source": [
    "shortest_movie = movie_length.min()\n",
    "longest_movie = movie_length.max()\n",
    "length_mean = movie_length.mean()\n",
    "length_median = movie_length.median()\n",
    "\n",
    "highest_score = movie_rating.max()\n",
    "lowest_score = movie_rating.min()\n",
    "score_mean = movie_rating.mean()\n",
    "round_scoremean = round(score_mean, 1)\n",
    "\n",
    "score_median = movie_rating.median()"
   ]
  },
  {
   "cell_type": "code",
   "execution_count": 16,
   "metadata": {},
   "outputs": [
    {
     "name": "stdout",
     "output_type": "stream",
     "text": [
      "The shortest movie is 106 minutes!\n",
      "The longest movie is 163 minutes long!\n",
      "The mean length of the movies is 128.28 and the median length is 128.0 minutes!\n",
      "The highest rated movie is 7.9 stars!\n",
      "The lowest rated movie is 6.0 stars!\n",
      "The mean rating of the movies is 6.9 and the median rating is 6.8 stars!\n"
     ]
    }
   ],
   "source": [
    "print(f\"The shortest movie is {shortest_movie} minutes!\")\n",
    "print(f\"The longest movie is {longest_movie} minutes long!\")\n",
    "print(f\"The mean length of the movies is {length_mean} and the median length is {length_median} minutes!\")\n",
    "print(f\"The highest rated movie is {highest_score} stars!\")\n",
    "print(f\"The lowest rated movie is {lowest_score} stars!\")\n",
    "print(f\"The mean rating of the movies is {round_scoremean} and the median rating is {score_median} stars!\")"
   ]
  }
 ],
 "metadata": {
  "kernelspec": {
   "display_name": "Python 3",
   "language": "python",
   "name": "python3"
  },
  "language_info": {
   "codemirror_mode": {
    "name": "ipython",
    "version": 3
   },
   "file_extension": ".py",
   "mimetype": "text/x-python",
   "name": "python",
   "nbconvert_exporter": "python",
   "pygments_lexer": "ipython3",
   "version": "3.12.7"
  }
 },
 "nbformat": 4,
 "nbformat_minor": 2
}
